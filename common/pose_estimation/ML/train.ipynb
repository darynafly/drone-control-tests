{
 "cells": [
  {
   "cell_type": "code",
   "execution_count": 1,
   "metadata": {},
   "outputs": [
    {
     "name": "stdout",
     "output_type": "stream",
     "text": [
      "Mean Squared Error: 0.026717515193329374\n"
     ]
    }
   ],
   "source": [
    "import pandas as pd\n",
    "\n",
    "# Load the CSV files\n",
    "#data1 = pd.read_csv('/home/ws/drones_control/px4/simulation/pose_estimation/imu_rpy_odometry_data_valongo.csv')\n",
    "#data2 = pd.read_csv('/home/ws/drones_control/px4/simulation/pose_estimation/imu_rpy_odometry_data_prague.csv')\n",
    "\n",
    "# Concatenate the datasets\n",
    "#data = pd.concat([data1, data2], ignore_index=True)\n",
    "\n",
    "data = pd.read_csv('imu_odometry_data.csv')\n",
    "\n",
    "# Calculate incremental pose (delta values)\n",
    "data['delta_x'] = data['x'].diff()\n",
    "data['delta_y'] = data['y'].diff()\n",
    "data['delta_z'] = data['z'].diff()\n",
    "data['delta_roll'] = data['roll'].diff()\n",
    "data['delta_pitch'] = data['pitch'].diff()\n",
    "data['delta_yaw'] = data['yaw'].diff()\n",
    "\n",
    "# Drop the first row (NaN values from diff)\n",
    "data = data.dropna()\n",
    "\n",
    "# Drop rows where any of the IMU accelerometer readings are smaller than 0.5 in absolute value\n",
    "#data = data[\n",
    "#    (data['imu_accel_x'].abs() >= 3.0) & \n",
    "#    (data['imu_accel_y'].abs() >= 3.0) & \n",
    "#    (data['imu_accel_z'].abs() >= 3.0)\n",
    "#]\n",
    "\n",
    "# Features (IMU data)\n",
    "X = data[['imu_accel_x', 'imu_accel_y', 'imu_accel_z', 'imu_gyro_x', 'imu_gyro_y', 'imu_gyro_z', 'roll', 'pitch', 'yaw']]\n",
    "\n",
    "# Targets (incremental pose)\n",
    "y = data[['delta_x', 'delta_y', 'delta_z', 'delta_roll', 'delta_pitch', 'delta_yaw']]\n",
    "\n",
    "from sklearn.model_selection import train_test_split\n",
    "from sklearn.ensemble import RandomForestRegressor\n",
    "from sklearn.metrics import mean_squared_error\n",
    "\n",
    "X_train, X_test, y_train, y_test = train_test_split(X, y, test_size=0.2, random_state=42)\n",
    "\n",
    "# Initialize the model\n",
    "model = RandomForestRegressor(n_estimators=100, random_state=42)\n",
    "\n",
    "# Train the model\n",
    "model.fit(X_train, y_train)\n",
    "\n",
    "# Predict on the test set\n",
    "y_pred = model.predict(X_test)\n",
    "\n",
    "# Evaluate the model\n",
    "mse = mean_squared_error(y_test, y_pred)\n",
    "print(f'Mean Squared Error: {mse}')\n"
   ]
  },
  {
   "cell_type": "code",
   "execution_count": 2,
   "metadata": {},
   "outputs": [
    {
     "data": {
      "text/plain": [
       "['pose_estimation_model.pkl']"
      ]
     },
     "execution_count": 2,
     "metadata": {},
     "output_type": "execute_result"
    }
   ],
   "source": [
    "import joblib\n",
    "\n",
    "# Save the Random Forest model\n",
    "joblib.dump(model, 'pose_estimation_model.pkl')\n",
    "\n",
    "# To load the model later:\n",
    "# model = joblib.load('pose_estimation_model.pkl')\n"
   ]
  }
 ],
 "metadata": {
  "kernelspec": {
   "display_name": "Python 3",
   "language": "python",
   "name": "python3"
  },
  "language_info": {
   "codemirror_mode": {
    "name": "ipython",
    "version": 3
   },
   "file_extension": ".py",
   "mimetype": "text/x-python",
   "name": "python",
   "nbconvert_exporter": "python",
   "pygments_lexer": "ipython3",
   "version": "3.10.12"
  }
 },
 "nbformat": 4,
 "nbformat_minor": 2
}
