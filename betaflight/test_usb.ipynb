{
 "cells": [
  {
   "cell_type": "code",
   "execution_count": 1,
   "metadata": {},
   "outputs": [],
   "source": [
    "import serial\n",
    "import struct\n",
    "import time\n",
    "\n",
    "### Connection\n",
    "# connect to a Betaflight drone via serial\n",
    "port = '/dev/ttyACM0'\n",
    "baudrate = 9600 # expected baudrate\n",
    "\n",
    "ser = serial.Serial(port, baudrate, timeout=1)"
   ]
  },
  {
   "cell_type": "code",
   "execution_count": 2,
   "metadata": {},
   "outputs": [],
   "source": [
    "### MSP commands\n",
    "# out messages usually start with 1 (1**)\n",
    "MSP_STATUS = 101\n",
    "MSP_RAW_IMU = 102\n",
    "# in messages usually start with 2 (2**)\n",
    "MSP_SET_MOTOR = 214"
   ]
  },
  {
   "cell_type": "code",
   "execution_count": 3,
   "metadata": {},
   "outputs": [],
   "source": [
    "### Main functions\n",
    "def construct_msp_message(command: int, data: list = []) -> bytearray:\n",
    "    \"\"\"Creates expected formatting.\n",
    "\n",
    "    Command frame format:\n",
    "    Header: `$M<`\n",
    "    Body: length of `data` + `command` + `data` values\n",
    "    Tail: checksum\n",
    "\n",
    "    Args:\n",
    "        command (int): MSP command\n",
    "        data (list, optional): list of params (length is varying). Defaults to [].\n",
    "\n",
    "    Returns:\n",
    "        bytearray: command frame\n",
    "    \"\"\"\n",
    "    message = bytearray()\n",
    "    # header\n",
    "    message.append(ord('$'))\n",
    "    message.append(ord('M'))\n",
    "    message.append(ord('<'))\n",
    "    # body\n",
    "    message.append(len(data))\n",
    "    message.append(command)\n",
    "    checksum = len(data) ^ command\n",
    "    for byte in data:\n",
    "        message.append(byte)\n",
    "        checksum ^= byte\n",
    "    # tail\n",
    "    message.append(checksum)\n",
    "    return message\n",
    "\n",
    "def send_msp_message(command: int, data: list = []):\n",
    "    \"\"\"Send prepared command via serial\n",
    "\n",
    "    Args:\n",
    "        command (int): MSP command\n",
    "        data (list, optional): list of params. Defaults to [].\n",
    "    \"\"\"\n",
    "    message = construct_msp_message(command, data)\n",
    "    ser.write(message)\n",
    "\n",
    "def read_msp_response() -> tuple:\n",
    "    \"\"\"Read data\n",
    "\n",
    "    Returns:\n",
    "        tuple: command code and its values\n",
    "    \"\"\"\n",
    "    header = ser.read(3)  # read header\n",
    "    if header != b'$M>':\n",
    "        return None\n",
    "    # read body\n",
    "    data_length = ser.read(1)[0]\n",
    "    code = ser.read(1)[0]\n",
    "    data = ser.read(data_length)\n",
    "    # read tail\n",
    "    checksum = ser.read(1)[0]\n",
    "    # check if the command is of the expected length\n",
    "    calculated_checksum = data_length ^ code\n",
    "    for byte in data:\n",
    "        calculated_checksum ^= byte\n",
    "    if calculated_checksum != checksum:\n",
    "        return None\n",
    "\n",
    "    return (code, data)"
   ]
  },
  {
   "cell_type": "code",
   "execution_count": 8,
   "metadata": {},
   "outputs": [],
   "source": [
    "### Get data functions\n",
    "def get_raw_imu() -> tuple:\n",
    "    \"\"\"Read raw IMU and decode it\n",
    "\n",
    "    Returns:\n",
    "        tuple | None: tuple - processed data, None - received data doesn't correspond to sent command\n",
    "    \"\"\"\n",
    "    send_msp_message(MSP_RAW_IMU)  # send request\n",
    "    time.sleep(0.1)  # wait for reply\n",
    "    response = read_msp_response() # get reply\n",
    "\n",
    "    if response and response[0] == MSP_RAW_IMU:\n",
    "        imu = struct.unpack(f'<{len(response[1]) // 2}H', response[1])  # decode\n",
    "        return imu\n",
    "    return None"
   ]
  },
  {
   "cell_type": "code",
   "execution_count": 11,
   "metadata": {},
   "outputs": [
    {
     "name": "stdout",
     "output_type": "stream",
     "text": [
      "None\n"
     ]
    }
   ],
   "source": [
    "print(get_raw_imu())"
   ]
  },
  {
   "cell_type": "code",
   "execution_count": 28,
   "metadata": {},
   "outputs": [],
   "source": [
    "### Set motors values functions\n",
    "def set_motor_values(motor1: int, motor2: int, motor3: int, motor4: int):\n",
    "    \"\"\"Set throttle per motor\n",
    "\n",
    "    Args:\n",
    "        motor1 (int): motor 1 throttle\n",
    "        motor2 (int): motor 2 throttle\n",
    "        motor3 (int): motor 3 throttle\n",
    "        motor4 (int): motor 4 throttle\n",
    "    \"\"\"\n",
    "    motor_values = [motor1, motor2, motor3, motor4, 0, 0, 0, 0]\n",
    "    send_msp_message(MSP_SET_MOTOR, struct.pack('<8H', *motor_values))"
   ]
  },
  {
   "cell_type": "code",
   "execution_count": 29,
   "metadata": {},
   "outputs": [],
   "source": [
    "### Arming/Disarming\n",
    "def arm():\n",
    "    \"\"\"Arm\n",
    "    Uses small throttle values (1100).\n",
    "    \"\"\"\n",
    "    set_motor_values(1100, 1100, 1100, 1100)\n",
    "\n",
    "def disarm():\n",
    "    \"\"\"Disarm\n",
    "    Uses min motor values (1000).\n",
    "    \"\"\"\n",
    "    set_motor_values(1000, 1000, 1000, 1000)"
   ]
  },
  {
   "cell_type": "code",
   "execution_count": 30,
   "metadata": {},
   "outputs": [],
   "source": [
    "### Flying functions\n",
    "def takeoff():\n",
    "    \"\"\"Take Off \n",
    "    Uses mean throttle values (1500).\n",
    "    \"\"\"\n",
    "    set_motor_values(1500, 1500, 1500, 1500)\n",
    "\n",
    "def yaw(cw: bool = True, speed: int = 100, motors: list = []):\n",
    "    \"\"\"Yaw rotation\n",
    "\n",
    "    Changes values for diagonal motors.\n",
    "\n",
    "    Args:\n",
    "        cw (bool, optional): if True CW rotation, if False - CCW. Defaults to True.\n",
    "        speed (int, optional): power amount to add/subtract from motor values. Defaults to 100.\n",
    "        motors (list, optional): current motor values (add to /subtract from). Defaults to [].\n",
    "    \"\"\"\n",
    "    if cw:\n",
    "        new_motors = [motors[0] + speed, motors[1] - speed, motors[2] - speed, motors[3] + speed]\n",
    "    else:\n",
    "        new_motors = [motors[0] - speed, motors[1] + speed, motors[2] + speed, motors[3] - speed]\n",
    "    set_motor_values(*new_motors)"
   ]
  },
  {
   "cell_type": "code",
   "execution_count": 39,
   "metadata": {},
   "outputs": [],
   "source": [
    "set_motor_values(1500, 500, 500, 1500)"
   ]
  },
  {
   "cell_type": "code",
   "execution_count": 40,
   "metadata": {},
   "outputs": [],
   "source": [
    "set_motor_values(0, 0, 0, 0)"
   ]
  },
  {
   "cell_type": "code",
   "execution_count": 41,
   "metadata": {},
   "outputs": [],
   "source": [
    "### Close connection when turning off the drone\n",
    "ser.close()"
   ]
  }
 ],
 "metadata": {
  "kernelspec": {
   "display_name": "Python 3",
   "language": "python",
   "name": "python3"
  },
  "language_info": {
   "codemirror_mode": {
    "name": "ipython",
    "version": 3
   },
   "file_extension": ".py",
   "mimetype": "text/x-python",
   "name": "python",
   "nbconvert_exporter": "python",
   "pygments_lexer": "ipython3",
   "version": "3.10.12"
  }
 },
 "nbformat": 4,
 "nbformat_minor": 2
}
